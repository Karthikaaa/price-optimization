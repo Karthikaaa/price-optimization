{
  "nbformat": 4,
  "nbformat_minor": 0,
  "metadata": {
    "colab": {
      "provenance": []
    },
    "kernelspec": {
      "name": "python3",
      "display_name": "Python 3"
    },
    "language_info": {
      "name": "python"
    }
  },
  "cells": [
    {
      "cell_type": "code",
      "execution_count": 2,
      "metadata": {
        "id": "KRXE4VjGAW0Q"
      },
      "outputs": [],
      "source": [
        "import pandas as pd\n",
        "import numpy as np\n",
        "import matplotlib.pyplot as plt\n",
        "from sklearn.linear_model import LinearRegression\n",
        "from sklearn.model_selection import train_test_split, cross_val_score"
      ]
    },
    {
      "cell_type": "code",
      "source": [
        "from google.colab import files\n",
        "uploaded = files.upload()\n"
      ],
      "metadata": {
        "colab": {
          "base_uri": "https://localhost:8080/",
          "height": 73
        },
        "id": "Je9apUgkAYjl",
        "outputId": "fe85d411-c60a-4c2f-e533-d87bf7a1fba9"
      },
      "execution_count": 3,
      "outputs": [
        {
          "output_type": "display_data",
          "data": {
            "text/plain": [
              "<IPython.core.display.HTML object>"
            ],
            "text/html": [
              "\n",
              "     <input type=\"file\" id=\"files-69d1fe1a-fb46-4cb4-bf95-20377a7e08d8\" name=\"files[]\" multiple disabled\n",
              "        style=\"border:none\" />\n",
              "     <output id=\"result-69d1fe1a-fb46-4cb4-bf95-20377a7e08d8\">\n",
              "      Upload widget is only available when the cell has been executed in the\n",
              "      current browser session. Please rerun this cell to enable.\n",
              "      </output>\n",
              "      <script>// Copyright 2017 Google LLC\n",
              "//\n",
              "// Licensed under the Apache License, Version 2.0 (the \"License\");\n",
              "// you may not use this file except in compliance with the License.\n",
              "// You may obtain a copy of the License at\n",
              "//\n",
              "//      http://www.apache.org/licenses/LICENSE-2.0\n",
              "//\n",
              "// Unless required by applicable law or agreed to in writing, software\n",
              "// distributed under the License is distributed on an \"AS IS\" BASIS,\n",
              "// WITHOUT WARRANTIES OR CONDITIONS OF ANY KIND, either express or implied.\n",
              "// See the License for the specific language governing permissions and\n",
              "// limitations under the License.\n",
              "\n",
              "/**\n",
              " * @fileoverview Helpers for google.colab Python module.\n",
              " */\n",
              "(function(scope) {\n",
              "function span(text, styleAttributes = {}) {\n",
              "  const element = document.createElement('span');\n",
              "  element.textContent = text;\n",
              "  for (const key of Object.keys(styleAttributes)) {\n",
              "    element.style[key] = styleAttributes[key];\n",
              "  }\n",
              "  return element;\n",
              "}\n",
              "\n",
              "// Max number of bytes which will be uploaded at a time.\n",
              "const MAX_PAYLOAD_SIZE = 100 * 1024;\n",
              "\n",
              "function _uploadFiles(inputId, outputId) {\n",
              "  const steps = uploadFilesStep(inputId, outputId);\n",
              "  const outputElement = document.getElementById(outputId);\n",
              "  // Cache steps on the outputElement to make it available for the next call\n",
              "  // to uploadFilesContinue from Python.\n",
              "  outputElement.steps = steps;\n",
              "\n",
              "  return _uploadFilesContinue(outputId);\n",
              "}\n",
              "\n",
              "// This is roughly an async generator (not supported in the browser yet),\n",
              "// where there are multiple asynchronous steps and the Python side is going\n",
              "// to poll for completion of each step.\n",
              "// This uses a Promise to block the python side on completion of each step,\n",
              "// then passes the result of the previous step as the input to the next step.\n",
              "function _uploadFilesContinue(outputId) {\n",
              "  const outputElement = document.getElementById(outputId);\n",
              "  const steps = outputElement.steps;\n",
              "\n",
              "  const next = steps.next(outputElement.lastPromiseValue);\n",
              "  return Promise.resolve(next.value.promise).then((value) => {\n",
              "    // Cache the last promise value to make it available to the next\n",
              "    // step of the generator.\n",
              "    outputElement.lastPromiseValue = value;\n",
              "    return next.value.response;\n",
              "  });\n",
              "}\n",
              "\n",
              "/**\n",
              " * Generator function which is called between each async step of the upload\n",
              " * process.\n",
              " * @param {string} inputId Element ID of the input file picker element.\n",
              " * @param {string} outputId Element ID of the output display.\n",
              " * @return {!Iterable<!Object>} Iterable of next steps.\n",
              " */\n",
              "function* uploadFilesStep(inputId, outputId) {\n",
              "  const inputElement = document.getElementById(inputId);\n",
              "  inputElement.disabled = false;\n",
              "\n",
              "  const outputElement = document.getElementById(outputId);\n",
              "  outputElement.innerHTML = '';\n",
              "\n",
              "  const pickedPromise = new Promise((resolve) => {\n",
              "    inputElement.addEventListener('change', (e) => {\n",
              "      resolve(e.target.files);\n",
              "    });\n",
              "  });\n",
              "\n",
              "  const cancel = document.createElement('button');\n",
              "  inputElement.parentElement.appendChild(cancel);\n",
              "  cancel.textContent = 'Cancel upload';\n",
              "  const cancelPromise = new Promise((resolve) => {\n",
              "    cancel.onclick = () => {\n",
              "      resolve(null);\n",
              "    };\n",
              "  });\n",
              "\n",
              "  // Wait for the user to pick the files.\n",
              "  const files = yield {\n",
              "    promise: Promise.race([pickedPromise, cancelPromise]),\n",
              "    response: {\n",
              "      action: 'starting',\n",
              "    }\n",
              "  };\n",
              "\n",
              "  cancel.remove();\n",
              "\n",
              "  // Disable the input element since further picks are not allowed.\n",
              "  inputElement.disabled = true;\n",
              "\n",
              "  if (!files) {\n",
              "    return {\n",
              "      response: {\n",
              "        action: 'complete',\n",
              "      }\n",
              "    };\n",
              "  }\n",
              "\n",
              "  for (const file of files) {\n",
              "    const li = document.createElement('li');\n",
              "    li.append(span(file.name, {fontWeight: 'bold'}));\n",
              "    li.append(span(\n",
              "        `(${file.type || 'n/a'}) - ${file.size} bytes, ` +\n",
              "        `last modified: ${\n",
              "            file.lastModifiedDate ? file.lastModifiedDate.toLocaleDateString() :\n",
              "                                    'n/a'} - `));\n",
              "    const percent = span('0% done');\n",
              "    li.appendChild(percent);\n",
              "\n",
              "    outputElement.appendChild(li);\n",
              "\n",
              "    const fileDataPromise = new Promise((resolve) => {\n",
              "      const reader = new FileReader();\n",
              "      reader.onload = (e) => {\n",
              "        resolve(e.target.result);\n",
              "      };\n",
              "      reader.readAsArrayBuffer(file);\n",
              "    });\n",
              "    // Wait for the data to be ready.\n",
              "    let fileData = yield {\n",
              "      promise: fileDataPromise,\n",
              "      response: {\n",
              "        action: 'continue',\n",
              "      }\n",
              "    };\n",
              "\n",
              "    // Use a chunked sending to avoid message size limits. See b/62115660.\n",
              "    let position = 0;\n",
              "    do {\n",
              "      const length = Math.min(fileData.byteLength - position, MAX_PAYLOAD_SIZE);\n",
              "      const chunk = new Uint8Array(fileData, position, length);\n",
              "      position += length;\n",
              "\n",
              "      const base64 = btoa(String.fromCharCode.apply(null, chunk));\n",
              "      yield {\n",
              "        response: {\n",
              "          action: 'append',\n",
              "          file: file.name,\n",
              "          data: base64,\n",
              "        },\n",
              "      };\n",
              "\n",
              "      let percentDone = fileData.byteLength === 0 ?\n",
              "          100 :\n",
              "          Math.round((position / fileData.byteLength) * 100);\n",
              "      percent.textContent = `${percentDone}% done`;\n",
              "\n",
              "    } while (position < fileData.byteLength);\n",
              "  }\n",
              "\n",
              "  // All done.\n",
              "  yield {\n",
              "    response: {\n",
              "      action: 'complete',\n",
              "    }\n",
              "  };\n",
              "}\n",
              "\n",
              "scope.google = scope.google || {};\n",
              "scope.google.colab = scope.google.colab || {};\n",
              "scope.google.colab._files = {\n",
              "  _uploadFiles,\n",
              "  _uploadFilesContinue,\n",
              "};\n",
              "})(self);\n",
              "</script> "
            ]
          },
          "metadata": {}
        },
        {
          "output_type": "stream",
          "name": "stdout",
          "text": [
            "Saving Nordstrom_products_with_quantity_sold.csv to Nordstrom_products_with_quantity_sold.csv\n"
          ]
        }
      ]
    },
    {
      "cell_type": "code",
      "source": [
        "df = pd.read_csv('Nordstrom_products_with_quantity_sold.csv')\n"
      ],
      "metadata": {
        "id": "UOYg91jaAki0"
      },
      "execution_count": 4,
      "outputs": []
    },
    {
      "cell_type": "code",
      "source": [
        "print(df.columns)\n"
      ],
      "metadata": {
        "colab": {
          "base_uri": "https://localhost:8080/"
        },
        "id": "FqJnQE4aRye2",
        "outputId": "6bb4da70-233d-4f20-b03d-8041da2f7dc9"
      },
      "execution_count": 5,
      "outputs": [
        {
          "output_type": "stream",
          "name": "stdout",
          "text": [
            "Index(['TID', 'DEPARTMENT', 'CATEGORY', 'SUBCATEGORY', 'SORT_BY',\n",
            "       'RANK_SALES_CATEGORY', 'PRODUCT_URL', 'SKU', 'SKU_VARIANT',\n",
            "       'PRODUCT_NAME', 'BRAND', 'GENDER', 'PRICE_RETAIL', 'PRICE_CURRENT',\n",
            "       'RETAIL_PRICE_RAW', 'CURRENT_PRICE_RAW', 'REVIEW_RATING',\n",
            "       'REVIEW_COUNT', 'PROMOTION', 'AVAILABILITY', 'INVENTORY_WARNING',\n",
            "       'COLOR', 'COLOR_CODE', 'RunID', 'RunDate', 'InsertUpdateTime',\n",
            "       'QUANTITY_SOLD'],\n",
            "      dtype='object')\n"
          ]
        }
      ]
    },
    {
      "cell_type": "code",
      "source": [
        "def calculate_price_elasticity(row):\n",
        "    # Avoid division by zero by checking for quantity sold being 0\n",
        "    if row['QUANTITY_SOLD'] == 0:\n",
        "        return 0\n",
        "\n",
        "    # Simple elasticity calculation (adjust as needed)\n",
        "    price = row['PRICE_CURRENT']\n",
        "    quantity = row['QUANTITY_SOLD']\n",
        "    elasticity = -0.1 * (price / quantity)  # Adjust this multiplier if necessary\n",
        "\n",
        "    return elasticity"
      ],
      "metadata": {
        "id": "AcEualXWVCo4"
      },
      "execution_count": 6,
      "outputs": []
    },
    {
      "cell_type": "code",
      "source": [
        "# Apply the elasticity calculation to each row\n",
        "df['PRICE_ELASTICITY'] = df.apply(calculate_price_elasticity, axis=1)\n"
      ],
      "metadata": {
        "id": "fPm7ny-RTn6b"
      },
      "execution_count": 7,
      "outputs": []
    },
    {
      "cell_type": "code",
      "source": [
        "def adjust_price(row, elasticity):\n",
        "    current_price = row['PRICE_CURRENT']\n",
        "\n",
        "    # Calculate the adjusted price based on elasticity\n",
        "    adjusted_price = current_price * (1 + 0.1 * elasticity)  # Adjust price based on elasticity\n",
        "\n",
        "    # Enforce a minimum price change of 5% (positive adjustment)\n",
        "    min_price_change = 0.05  # Minimum 5% change\n",
        "    if abs(adjusted_price - current_price) < current_price * min_price_change:\n",
        "        adjusted_price = current_price * (1 + min_price_change)  # Enforce at least 5% increase\n",
        "\n",
        "    # Ensure adjusted price is not less than the current price (no losses)\n",
        "    if adjusted_price < current_price:\n",
        "        adjusted_price = current_price  # Ensure no decrease in price\n",
        "\n",
        "    return adjusted_price"
      ],
      "metadata": {
        "id": "8yM_e-rSRy0N"
      },
      "execution_count": 8,
      "outputs": []
    },
    {
      "cell_type": "code",
      "source": [
        "df['Optimal Price'] = df.apply(lambda row: adjust_price(row, row['PRICE_ELASTICITY']), axis=1)\n"
      ],
      "metadata": {
        "id": "BekfVx4uY0Ef"
      },
      "execution_count": 9,
      "outputs": []
    },
    {
      "cell_type": "code",
      "source": [
        "# Calculate the revenue with adjusted prices\n",
        "df['Adjusted Revenue'] = df['Optimal Price'] * df['QUANTITY_SOLD']\n"
      ],
      "metadata": {
        "id": "ydiN3alAXJHU"
      },
      "execution_count": 10,
      "outputs": []
    },
    {
      "cell_type": "code",
      "source": [
        "total_current_revenue = df['PRICE_CURRENT'].sum()\n",
        "total_adjusted_revenue = df['Adjusted Revenue'].sum()\n"
      ],
      "metadata": {
        "id": "MwPjt7V0kTQ0"
      },
      "execution_count": 11,
      "outputs": []
    },
    {
      "cell_type": "code",
      "source": [
        "revenue_difference = total_adjusted_revenue - total_current_revenue\n",
        "\n",
        "print(f\"Total Current Revenue: ${total_current_revenue:,.2f}\")\n",
        "print(f\"Total Adjusted Revenue: ${total_adjusted_revenue:,.2f}\")\n",
        "print(f\"Revenue Difference: ${revenue_difference:,.2f}\")"
      ],
      "metadata": {
        "colab": {
          "base_uri": "https://localhost:8080/"
        },
        "id": "DDt6o9fRkPUX",
        "outputId": "d5a57d92-2085-47a1-8aab-b9368ee85543"
      },
      "execution_count": 12,
      "outputs": [
        {
          "output_type": "stream",
          "name": "stdout",
          "text": [
            "Total Current Revenue: $90,143.47\n",
            "Total Adjusted Revenue: $2,062,997.48\n",
            "Revenue Difference: $1,972,854.01\n"
          ]
        }
      ]
    },
    {
      "cell_type": "code",
      "source": [
        "# Assuming the DataFrame contains 'Brand', 'Product', 'PRICE_CURRENT', 'Adjusted Price'\n",
        "\n",
        "# Display the first 10 rows with the required information (no 'Cost' column)\n",
        "df_display = df[['TID','BRAND', 'PRODUCT_NAME', 'PRICE_CURRENT', 'Optimal Price']].head(10)\n",
        "\n",
        "# Calculate the profit as the difference between the current price and the adjusted price\n",
        "df_display['Profit'] = df_display['Optimal Price'] - df_display['PRICE_CURRENT']\n",
        "\n",
        "# Display the final result for the first 10 entries\n",
        "print(df_display)\n"
      ],
      "metadata": {
        "colab": {
          "base_uri": "https://localhost:8080/"
        },
        "id": "vmrR3NYjmfMX",
        "outputId": "7b87d2b4-4b45-4864-8588-db16093c5f23"
      },
      "execution_count": 13,
      "outputs": [
        {
          "output_type": "stream",
          "name": "stdout",
          "text": [
            "         TID                  BRAND  \\\n",
            "0  142453945                  vuori   \n",
            "1  142453946                     AG   \n",
            "2  142453947                     AG   \n",
            "3  142453948                   Veja   \n",
            "4  142453949  Billionaire Boys Club   \n",
            "5  142453950                  vuori   \n",
            "6  142453951               Rainbow®   \n",
            "7  142453952              Nordstrom   \n",
            "8  142453953            Rodd & Gunn   \n",
            "9  142453954           TravisMathew   \n",
            "\n",
            "                                 PRODUCT_NAME  PRICE_CURRENT  Optimal Price  \\\n",
            "0       Strato Slim Fit Crewneck Tech T-Shirt          54.00        56.7000   \n",
            "1             Everett Slim Straight Leg Jeans         132.66       139.2930   \n",
            "2  Men's Graduate Tailored Straight Leg Jeans         138.60       145.5300   \n",
            "3                               Campo Sneaker         175.00       175.0000   \n",
            "4                 Creation Cotton Graphic Tee          48.00        50.4000   \n",
            "5                            Strato Tech Polo          64.00        67.2000   \n",
            "6                    Rainbow '301Alts' Sandal          59.99        62.9895   \n",
            "7                  Brody Driving Penny Loafer          89.95        94.4475   \n",
            "8                       Ellerslie Linen Shirt         138.00       138.0000   \n",
            "9             King of Cabo Stretch Polo Shirt          74.96        78.7080   \n",
            "\n",
            "   Profit  \n",
            "0  2.7000  \n",
            "1  6.6330  \n",
            "2  6.9300  \n",
            "3  0.0000  \n",
            "4  2.4000  \n",
            "5  3.2000  \n",
            "6  2.9995  \n",
            "7  4.4975  \n",
            "8  0.0000  \n",
            "9  3.7480  \n"
          ]
        }
      ]
    }
  ]
}